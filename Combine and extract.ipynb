{
 "cells": [
  {
   "cell_type": "code",
   "execution_count": 1,
   "id": "2a32487d-d190-446c-ab0f-fe09e14b5956",
   "metadata": {},
   "outputs": [],
   "source": [
    "import glob\n",
    "import pandas as pd"
   ]
  },
  {
   "cell_type": "code",
   "execution_count": 2,
   "id": "32f171dd-bd68-4c17-9454-045b7c2fb249",
   "metadata": {},
   "outputs": [
    {
     "name": "stdout",
     "output_type": "stream",
     "text": [
      "15\n"
     ]
    }
   ],
   "source": [
    "files = glob.glob(\"./extracted*\")\n",
    "print(len(files))"
   ]
  },
  {
   "cell_type": "code",
   "execution_count": 8,
   "id": "3470df32-d26b-43b0-969f-81e4299a14df",
   "metadata": {},
   "outputs": [],
   "source": [
    "df = pd.DataFrame()\n",
    "for i in range(len(files)):\n",
    "    df=df.append(pd.read_csv(files[i]))\n",
    "df.to_csv('all.csv')\n"
   ]
  },
  {
   "cell_type": "code",
   "execution_count": 15,
   "id": "bbde37b4-f0dd-4b54-8e14-f9ccb1979a28",
   "metadata": {},
   "outputs": [
    {
     "name": "stdout",
     "output_type": "stream",
     "text": [
      "3552\n",
      "3086\n"
     ]
    }
   ],
   "source": [
    "onlyComplete = df[df['complete'] == 'Y']\n",
    "print(len(onlyComplete))\n",
    "withDirection = onlyComplete[(onlyComplete['direction'] == 'R/L') | (onlyComplete['direction'] == 'L/R')]\n",
    "print(len(withDirection))\n",
    "withDirection.to_csv('valid.csv')"
   ]
  },
  {
   "cell_type": "code",
   "execution_count": null,
   "id": "40db3625-db1c-4204-922b-189e18c54007",
   "metadata": {},
   "outputs": [],
   "source": []
  }
 ],
 "metadata": {
  "kernelspec": {
   "display_name": "Python 3 (ipykernel)",
   "language": "python",
   "name": "python3"
  },
  "language_info": {
   "codemirror_mode": {
    "name": "ipython",
    "version": 3
   },
   "file_extension": ".py",
   "mimetype": "text/x-python",
   "name": "python",
   "nbconvert_exporter": "python",
   "pygments_lexer": "ipython3",
   "version": "3.8.10"
  }
 },
 "nbformat": 4,
 "nbformat_minor": 5
}
